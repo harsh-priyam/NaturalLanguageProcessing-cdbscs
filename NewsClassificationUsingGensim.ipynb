{
 "cells": [
  {
   "cell_type": "code",
   "execution_count": 1,
   "id": "7aeb054f",
   "metadata": {},
   "outputs": [
    {
     "name": "stdout",
     "output_type": "stream",
     "text": [
      "[==================================================] 100.0% 1662.8/1662.8MB downloaded\n"
     ]
    }
   ],
   "source": [
    "import gensim.downloader as api\n",
    "\n",
    "wv = api.load(\"word2vec-google-news-300\")"
   ]
  },
  {
   "cell_type": "code",
   "execution_count": 6,
   "id": "6b40503f",
   "metadata": {},
   "outputs": [
    {
     "data": {
      "text/plain": [
       "0.729151"
      ]
     },
     "execution_count": 6,
     "metadata": {},
     "output_type": "execute_result"
    }
   ],
   "source": [
    "wv.similarity(w1=\"great\",w2=\"good\")"
   ]
  },
  {
   "cell_type": "code",
   "execution_count": 7,
   "id": "ea8f333c",
   "metadata": {},
   "outputs": [
    {
     "data": {
      "text/plain": [
       "0.34199455"
      ]
     },
     "execution_count": 7,
     "metadata": {},
     "output_type": "execute_result"
    }
   ],
   "source": [
    "wv.similarity(w1=\"profit\",w2=\"loss\")"
   ]
  },
  {
   "cell_type": "code",
   "execution_count": 8,
   "id": "9692747f",
   "metadata": {},
   "outputs": [
    {
     "data": {
      "text/plain": [
       "0.28772825"
      ]
     },
     "execution_count": 8,
     "metadata": {},
     "output_type": "execute_result"
    }
   ],
   "source": [
    "wv.similarity(w1=\"profit\",w2=\"gain\")"
   ]
  },
  {
   "cell_type": "code",
   "execution_count": 9,
   "id": "49cf9b46",
   "metadata": {},
   "outputs": [
    {
     "data": {
      "text/plain": [
       "[('great', 0.7291510105133057),\n",
       " ('bad', 0.7190051078796387),\n",
       " ('terrific', 0.6889115571975708),\n",
       " ('decent', 0.6837348341941833),\n",
       " ('nice', 0.6836092472076416),\n",
       " ('excellent', 0.644292950630188),\n",
       " ('fantastic', 0.6407778263092041),\n",
       " ('better', 0.6120728850364685),\n",
       " ('solid', 0.5806034803390503),\n",
       " ('lousy', 0.576420247554779)]"
      ]
     },
     "execution_count": 9,
     "metadata": {},
     "output_type": "execute_result"
    }
   ],
   "source": [
    "wv.most_similar(\"good\")"
   ]
  },
  {
   "cell_type": "code",
   "execution_count": 10,
   "id": "09f6a3e9",
   "metadata": {},
   "outputs": [],
   "source": [
    "# KING - MAN + WOMAN = QUEEN"
   ]
  },
  {
   "cell_type": "code",
   "execution_count": 12,
   "id": "9d46bb5f",
   "metadata": {},
   "outputs": [
    {
     "data": {
      "text/plain": [
       "[('queen', 0.7118193507194519),\n",
       " ('monarch', 0.6189674139022827),\n",
       " ('princess', 0.5902431011199951),\n",
       " ('crown_prince', 0.5499460697174072),\n",
       " ('prince', 0.5377321839332581),\n",
       " ('kings', 0.5236844420433044),\n",
       " ('Queen_Consort', 0.5235945582389832),\n",
       " ('queens', 0.5181134343147278),\n",
       " ('sultan', 0.5098593831062317),\n",
       " ('monarchy', 0.5087411999702454)]"
      ]
     },
     "execution_count": 12,
     "metadata": {},
     "output_type": "execute_result"
    }
   ],
   "source": [
    "wv.most_similar(positive=[\"king\",\"woman\"],negative=[\"man\"])"
   ]
  },
  {
   "cell_type": "code",
   "execution_count": 13,
   "id": "d1a6e0c0",
   "metadata": {},
   "outputs": [
    {
     "data": {
      "text/plain": [
       "'cat'"
      ]
     },
     "execution_count": 13,
     "metadata": {},
     "output_type": "execute_result"
    }
   ],
   "source": [
    "wv.doesnt_match([\"facebook\",\"cat\",\"google\",\"microsoft\"])"
   ]
  },
  {
   "cell_type": "code",
   "execution_count": 14,
   "id": "5069543b",
   "metadata": {},
   "outputs": [],
   "source": [
    "# GLOVE MODEL TWITTER "
   ]
  },
  {
   "cell_type": "code",
   "execution_count": 15,
   "id": "dde408d9",
   "metadata": {},
   "outputs": [
    {
     "name": "stdout",
     "output_type": "stream",
     "text": [
      "[==================================================] 100.0% 104.8/104.8MB downloaded\n"
     ]
    }
   ],
   "source": [
    "glv = api.load(\"glove-twitter-25\")"
   ]
  },
  {
   "cell_type": "code",
   "execution_count": 16,
   "id": "e8cb12e4",
   "metadata": {},
   "outputs": [
    {
     "data": {
      "text/plain": [
       "[('too', 0.9648017287254333),\n",
       " ('day', 0.9533665180206299),\n",
       " ('well', 0.9503170847892761),\n",
       " ('nice', 0.9438973665237427),\n",
       " ('better', 0.9425962567329407),\n",
       " ('fun', 0.9418926239013672),\n",
       " ('much', 0.9413353800773621),\n",
       " ('this', 0.9387555122375488),\n",
       " ('hope', 0.9383506774902344),\n",
       " ('great', 0.9378516674041748)]"
      ]
     },
     "execution_count": 16,
     "metadata": {},
     "output_type": "execute_result"
    }
   ],
   "source": [
    "glv.most_similar(\"good\")"
   ]
  },
  {
   "cell_type": "code",
   "execution_count": 17,
   "id": "041a446c",
   "metadata": {},
   "outputs": [
    {
     "data": {
      "text/plain": [
       "[('qualcomm', 0.9118991494178772),\n",
       " ('motors', 0.907597541809082),\n",
       " ('sachs', 0.8855622410774231),\n",
       " ('alibaba', 0.8841804265975952),\n",
       " ('weber', 0.8666931390762329),\n",
       " ('deere', 0.8601743578910828),\n",
       " ('kernel', 0.8578172922134399),\n",
       " ('foxconn', 0.8552562594413757),\n",
       " ('citigroup', 0.8552471399307251),\n",
       " ('exxon', 0.855033814907074)]"
      ]
     },
     "execution_count": 17,
     "metadata": {},
     "output_type": "execute_result"
    }
   ],
   "source": [
    "glv.most_similar(\"tesla\")"
   ]
  },
  {
   "cell_type": "code",
   "execution_count": 21,
   "id": "d70595b7",
   "metadata": {},
   "outputs": [
    {
     "data": {
      "text/plain": [
       "[('kejriwal', 0.9592850804328918),\n",
       " ('pmln', 0.9451469779014587),\n",
       " ('modi', 0.9385530948638916),\n",
       " ('arvind', 0.9335629940032959),\n",
       " ('congress', 0.9277803897857666),\n",
       " ('narendra', 0.9257768392562866),\n",
       " ('gujarat', 0.9180455207824707),\n",
       " ('anc', 0.9106377959251404),\n",
       " ('punjab', 0.9092264175415039),\n",
       " ('pml-n', 0.8995295763015747)]"
      ]
     },
     "execution_count": 21,
     "metadata": {},
     "output_type": "execute_result"
    }
   ],
   "source": [
    "glv.most_similar(\"bjp\")"
   ]
  },
  {
   "cell_type": "code",
   "execution_count": 23,
   "id": "63ff1108",
   "metadata": {},
   "outputs": [],
   "source": [
    "wv_great = wv[\"great\"]\n",
    "wv_good = wv[\"good\"]"
   ]
  },
  {
   "cell_type": "code",
   "execution_count": 35,
   "id": "c173f286",
   "metadata": {},
   "outputs": [],
   "source": [
    "# wv_great"
   ]
  },
  {
   "cell_type": "code",
   "execution_count": 20,
   "id": "4996547a",
   "metadata": {},
   "outputs": [],
   "source": [
    "#---------Classification Project-----------------#"
   ]
  },
  {
   "cell_type": "code",
   "execution_count": 24,
   "id": "396486e1",
   "metadata": {},
   "outputs": [
    {
     "data": {
      "text/plain": [
       "(9900, 2)"
      ]
     },
     "execution_count": 24,
     "metadata": {},
     "output_type": "execute_result"
    }
   ],
   "source": [
    "import pandas as pd\n",
    "\n",
    "df = pd.read_csv('fake_and_real_news.csv')\n",
    "df.shape"
   ]
  },
  {
   "cell_type": "code",
   "execution_count": 25,
   "id": "1e529a04",
   "metadata": {},
   "outputs": [
    {
     "data": {
      "text/html": [
       "<div>\n",
       "<style scoped>\n",
       "    .dataframe tbody tr th:only-of-type {\n",
       "        vertical-align: middle;\n",
       "    }\n",
       "\n",
       "    .dataframe tbody tr th {\n",
       "        vertical-align: top;\n",
       "    }\n",
       "\n",
       "    .dataframe thead th {\n",
       "        text-align: right;\n",
       "    }\n",
       "</style>\n",
       "<table border=\"1\" class=\"dataframe\">\n",
       "  <thead>\n",
       "    <tr style=\"text-align: right;\">\n",
       "      <th></th>\n",
       "      <th>Text</th>\n",
       "      <th>label</th>\n",
       "    </tr>\n",
       "  </thead>\n",
       "  <tbody>\n",
       "    <tr>\n",
       "      <th>0</th>\n",
       "      <td>Top Trump Surrogate BRUTALLY Stabs Him In The...</td>\n",
       "      <td>Fake</td>\n",
       "    </tr>\n",
       "    <tr>\n",
       "      <th>1</th>\n",
       "      <td>U.S. conservative leader optimistic of common ...</td>\n",
       "      <td>Real</td>\n",
       "    </tr>\n",
       "    <tr>\n",
       "      <th>2</th>\n",
       "      <td>Trump proposes U.S. tax overhaul, stirs concer...</td>\n",
       "      <td>Real</td>\n",
       "    </tr>\n",
       "    <tr>\n",
       "      <th>3</th>\n",
       "      <td>Court Forces Ohio To Allow Millions Of Illega...</td>\n",
       "      <td>Fake</td>\n",
       "    </tr>\n",
       "    <tr>\n",
       "      <th>4</th>\n",
       "      <td>Democrats say Trump agrees to work on immigrat...</td>\n",
       "      <td>Real</td>\n",
       "    </tr>\n",
       "  </tbody>\n",
       "</table>\n",
       "</div>"
      ],
      "text/plain": [
       "                                                Text label\n",
       "0   Top Trump Surrogate BRUTALLY Stabs Him In The...  Fake\n",
       "1  U.S. conservative leader optimistic of common ...  Real\n",
       "2  Trump proposes U.S. tax overhaul, stirs concer...  Real\n",
       "3   Court Forces Ohio To Allow Millions Of Illega...  Fake\n",
       "4  Democrats say Trump agrees to work on immigrat...  Real"
      ]
     },
     "execution_count": 25,
     "metadata": {},
     "output_type": "execute_result"
    }
   ],
   "source": [
    "df.head()"
   ]
  },
  {
   "cell_type": "code",
   "execution_count": 27,
   "id": "6fe3b618",
   "metadata": {},
   "outputs": [
    {
     "data": {
      "text/plain": [
       "label\n",
       "Fake    5000\n",
       "Real    4900\n",
       "Name: count, dtype: int64"
      ]
     },
     "execution_count": 27,
     "metadata": {},
     "output_type": "execute_result"
    }
   ],
   "source": [
    "df.label.value_counts()"
   ]
  },
  {
   "cell_type": "code",
   "execution_count": 28,
   "id": "d514aaff",
   "metadata": {},
   "outputs": [],
   "source": [
    "df['label'] = df.label.map({\n",
    "    'Fake':0,\n",
    "    'Real':1\n",
    "})"
   ]
  },
  {
   "cell_type": "code",
   "execution_count": 30,
   "id": "47f4d245",
   "metadata": {},
   "outputs": [
    {
     "data": {
      "text/html": [
       "<div>\n",
       "<style scoped>\n",
       "    .dataframe tbody tr th:only-of-type {\n",
       "        vertical-align: middle;\n",
       "    }\n",
       "\n",
       "    .dataframe tbody tr th {\n",
       "        vertical-align: top;\n",
       "    }\n",
       "\n",
       "    .dataframe thead th {\n",
       "        text-align: right;\n",
       "    }\n",
       "</style>\n",
       "<table border=\"1\" class=\"dataframe\">\n",
       "  <thead>\n",
       "    <tr style=\"text-align: right;\">\n",
       "      <th></th>\n",
       "      <th>Text</th>\n",
       "      <th>label</th>\n",
       "    </tr>\n",
       "  </thead>\n",
       "  <tbody>\n",
       "    <tr>\n",
       "      <th>0</th>\n",
       "      <td>Top Trump Surrogate BRUTALLY Stabs Him In The...</td>\n",
       "      <td>0</td>\n",
       "    </tr>\n",
       "    <tr>\n",
       "      <th>1</th>\n",
       "      <td>U.S. conservative leader optimistic of common ...</td>\n",
       "      <td>1</td>\n",
       "    </tr>\n",
       "    <tr>\n",
       "      <th>2</th>\n",
       "      <td>Trump proposes U.S. tax overhaul, stirs concer...</td>\n",
       "      <td>1</td>\n",
       "    </tr>\n",
       "    <tr>\n",
       "      <th>3</th>\n",
       "      <td>Court Forces Ohio To Allow Millions Of Illega...</td>\n",
       "      <td>0</td>\n",
       "    </tr>\n",
       "    <tr>\n",
       "      <th>4</th>\n",
       "      <td>Democrats say Trump agrees to work on immigrat...</td>\n",
       "      <td>1</td>\n",
       "    </tr>\n",
       "  </tbody>\n",
       "</table>\n",
       "</div>"
      ],
      "text/plain": [
       "                                                Text  label\n",
       "0   Top Trump Surrogate BRUTALLY Stabs Him In The...      0\n",
       "1  U.S. conservative leader optimistic of common ...      1\n",
       "2  Trump proposes U.S. tax overhaul, stirs concer...      1\n",
       "3   Court Forces Ohio To Allow Millions Of Illega...      0\n",
       "4  Democrats say Trump agrees to work on immigrat...      1"
      ]
     },
     "execution_count": 30,
     "metadata": {},
     "output_type": "execute_result"
    }
   ],
   "source": [
    "df.head()"
   ]
  },
  {
   "cell_type": "code",
   "execution_count": 31,
   "id": "70ddf521",
   "metadata": {},
   "outputs": [],
   "source": [
    "import spacy\n",
    "nlp = spacy.load(\"en_core_web_lg\")"
   ]
  },
  {
   "cell_type": "code",
   "execution_count": 50,
   "id": "5d074c02",
   "metadata": {},
   "outputs": [],
   "source": [
    "def preprocessing_and_vectorize(text):\n",
    "    doc = nlp(text)\n",
    "    filtered_token = []\n",
    "    for token in doc:\n",
    "        if token.is_stop or token.is_punct:\n",
    "            continue\n",
    "        filtered_token.append(token.lemma_)\n",
    "        \n",
    "    return wv.get_mean_vector(filtered_token)"
   ]
  },
  {
   "cell_type": "code",
   "execution_count": 51,
   "id": "9520ebf6",
   "metadata": {},
   "outputs": [],
   "source": [
    "# preprocessing_and_vectorize(\"Don't worry if you don't understand\")"
   ]
  },
  {
   "cell_type": "code",
   "execution_count": 52,
   "id": "7af0de62",
   "metadata": {},
   "outputs": [],
   "source": [
    "# wv.get_mean_vector([\"worry\",\"understand\"])"
   ]
  },
  {
   "cell_type": "code",
   "execution_count": 53,
   "id": "58181da7",
   "metadata": {},
   "outputs": [],
   "source": [
    "df['vector'] = df['Text'].apply(lambda text: preprocessing_and_vectorize(text))"
   ]
  },
  {
   "cell_type": "code",
   "execution_count": 54,
   "id": "90d33ae0",
   "metadata": {},
   "outputs": [
    {
     "data": {
      "text/html": [
       "<div>\n",
       "<style scoped>\n",
       "    .dataframe tbody tr th:only-of-type {\n",
       "        vertical-align: middle;\n",
       "    }\n",
       "\n",
       "    .dataframe tbody tr th {\n",
       "        vertical-align: top;\n",
       "    }\n",
       "\n",
       "    .dataframe thead th {\n",
       "        text-align: right;\n",
       "    }\n",
       "</style>\n",
       "<table border=\"1\" class=\"dataframe\">\n",
       "  <thead>\n",
       "    <tr style=\"text-align: right;\">\n",
       "      <th></th>\n",
       "      <th>Text</th>\n",
       "      <th>label</th>\n",
       "      <th>vector</th>\n",
       "    </tr>\n",
       "  </thead>\n",
       "  <tbody>\n",
       "    <tr>\n",
       "      <th>0</th>\n",
       "      <td>Top Trump Surrogate BRUTALLY Stabs Him In The...</td>\n",
       "      <td>0</td>\n",
       "      <td>[0.008657642, 0.019024342, -0.011917442, 0.032...</td>\n",
       "    </tr>\n",
       "    <tr>\n",
       "      <th>1</th>\n",
       "      <td>U.S. conservative leader optimistic of common ...</td>\n",
       "      <td>1</td>\n",
       "      <td>[0.010864096, 0.007960429, 0.0011915653, 0.014...</td>\n",
       "    </tr>\n",
       "    <tr>\n",
       "      <th>2</th>\n",
       "      <td>Trump proposes U.S. tax overhaul, stirs concer...</td>\n",
       "      <td>1</td>\n",
       "      <td>[0.018134918, 0.0062743523, -0.005872244, 0.03...</td>\n",
       "    </tr>\n",
       "    <tr>\n",
       "      <th>3</th>\n",
       "      <td>Court Forces Ohio To Allow Millions Of Illega...</td>\n",
       "      <td>0</td>\n",
       "      <td>[0.01255197, 0.012613623, 5.9780963e-05, 0.021...</td>\n",
       "    </tr>\n",
       "    <tr>\n",
       "      <th>4</th>\n",
       "      <td>Democrats say Trump agrees to work on immigrat...</td>\n",
       "      <td>1</td>\n",
       "      <td>[-0.0019059887, 0.011889367, 0.0035395357, 0.0...</td>\n",
       "    </tr>\n",
       "  </tbody>\n",
       "</table>\n",
       "</div>"
      ],
      "text/plain": [
       "                                                Text  label  \\\n",
       "0   Top Trump Surrogate BRUTALLY Stabs Him In The...      0   \n",
       "1  U.S. conservative leader optimistic of common ...      1   \n",
       "2  Trump proposes U.S. tax overhaul, stirs concer...      1   \n",
       "3   Court Forces Ohio To Allow Millions Of Illega...      0   \n",
       "4  Democrats say Trump agrees to work on immigrat...      1   \n",
       "\n",
       "                                              vector  \n",
       "0  [0.008657642, 0.019024342, -0.011917442, 0.032...  \n",
       "1  [0.010864096, 0.007960429, 0.0011915653, 0.014...  \n",
       "2  [0.018134918, 0.0062743523, -0.005872244, 0.03...  \n",
       "3  [0.01255197, 0.012613623, 5.9780963e-05, 0.021...  \n",
       "4  [-0.0019059887, 0.011889367, 0.0035395357, 0.0...  "
      ]
     },
     "execution_count": 54,
     "metadata": {},
     "output_type": "execute_result"
    }
   ],
   "source": [
    "df.head()"
   ]
  },
  {
   "cell_type": "code",
   "execution_count": 55,
   "id": "04f4f12a",
   "metadata": {},
   "outputs": [],
   "source": [
    "from sklearn.model_selection import train_test_split\n",
    "\n",
    "X_train,X_test,y_train,y_test = train_test_split(df.vector.values,df.label,test_size=0.2,random_state=2022,stratify=df.label)"
   ]
  },
  {
   "cell_type": "code",
   "execution_count": 56,
   "id": "d82c8203",
   "metadata": {},
   "outputs": [
    {
     "data": {
      "text/plain": [
       "(7920,)"
      ]
     },
     "execution_count": 56,
     "metadata": {},
     "output_type": "execute_result"
    }
   ],
   "source": [
    "X_train.shape"
   ]
  },
  {
   "cell_type": "code",
   "execution_count": 57,
   "id": "ee31946a",
   "metadata": {},
   "outputs": [
    {
     "data": {
      "text/plain": [
       "(1980,)"
      ]
     },
     "execution_count": 57,
     "metadata": {},
     "output_type": "execute_result"
    }
   ],
   "source": [
    "X_test.shape"
   ]
  },
  {
   "cell_type": "code",
   "execution_count": 58,
   "id": "ab751e59",
   "metadata": {},
   "outputs": [
    {
     "data": {
      "text/plain": [
       "array([array([-2.58219568e-03,  6.66544260e-03,  2.52646767e-03,  3.95730063e-02,\n",
       "              -1.41182542e-02, -7.22123589e-03,  3.15938070e-02, -3.18326391e-02,\n",
       "               1.62770562e-02,  2.15391051e-02, -2.36972049e-02, -3.72144543e-02,\n",
       "              -6.70092739e-03,  1.64224133e-02, -2.48180293e-02,  4.60469536e-02,\n",
       "               6.02065027e-03,  2.53213309e-02,  4.08343738e-03, -3.32745500e-02,\n",
       "               6.01468608e-03,  1.92604307e-02,  4.28487025e-02, -2.15403945e-03,\n",
       "               2.04510838e-02,  3.04712215e-03, -2.73784697e-02, -1.53319014e-03,\n",
       "               6.67838380e-03, -3.27401888e-03, -1.53824072e-02,  9.19036320e-05,\n",
       "              -2.74383668e-02, -3.54807038e-04, -1.12002371e-02, -1.66487973e-02,\n",
       "               1.40579836e-02,  2.69189221e-03, -4.44610231e-03,  3.41382883e-02,\n",
       "               5.02199680e-03, -1.35964267e-02,  4.29993980e-02,  1.10096289e-02,\n",
       "              -5.67582203e-03, -1.63680799e-02, -2.08231565e-02,  8.67405720e-03,\n",
       "              -1.27506657e-02,  3.22506502e-02, -1.29026920e-02,  2.64204424e-02,\n",
       "              -4.90747951e-03, -4.95679071e-03,  3.24445846e-03,  5.05160249e-04,\n",
       "              -1.06441928e-02, -2.69884747e-02, -9.40681156e-03, -3.02510597e-02,\n",
       "               6.06752140e-03,  2.97850110e-02, -2.75506414e-02, -1.17566157e-03,\n",
       "               1.70167554e-02, -1.53231900e-02, -2.12831516e-02, -6.69188192e-03,\n",
       "              -3.28447693e-03,  2.26514768e-02,  1.15149254e-02,  1.44865084e-03,\n",
       "               2.79989429e-02,  2.49321526e-03, -2.24706046e-02, -2.50821244e-02,\n",
       "               9.00601223e-03,  1.73658188e-02,  2.09767334e-02,  3.03668417e-02,\n",
       "              -1.38382493e-02, -2.01829318e-02,  1.25048012e-02, -5.96598722e-03,\n",
       "              -9.37698036e-03, -2.76826620e-02, -3.20913680e-02,  5.39542213e-02,\n",
       "               1.66598021e-03,  4.34976909e-03,  5.92936715e-03, -1.17840115e-02,\n",
       "              -4.50106449e-02, -2.10491549e-02, -7.83731975e-03, -3.38384211e-02,\n",
       "               1.77004468e-02,  1.65641699e-02,  1.81579106e-02, -1.59047600e-02,\n",
       "              -1.97536778e-02, -1.95956491e-02,  3.34207085e-03,  5.66034287e-04,\n",
       "              -1.82805564e-02, -5.11482451e-03,  1.91473309e-03, -2.90830061e-02,\n",
       "              -4.02855873e-03, -1.70079172e-02, -2.80600488e-02, -2.30379254e-02,\n",
       "               3.85570107e-03, -4.13628295e-03,  3.18104029e-02, -7.97387213e-03,\n",
       "               2.08447948e-02, -2.53612529e-02,  2.59634871e-02,  9.27834585e-03,\n",
       "              -2.49574985e-02, -1.68696162e-03, -1.31695597e-02,  3.27412300e-02,\n",
       "              -9.09329578e-03, -9.97136813e-03, -1.87872127e-02, -1.40376640e-02,\n",
       "               2.25356244e-03,  1.18356198e-02, -1.46980733e-02, -1.03703476e-02,\n",
       "              -9.65756085e-03,  2.03495752e-03, -1.37474597e-03,  6.44901593e-04,\n",
       "               8.42744485e-04,  9.56854783e-03,  1.62692107e-02,  2.09762473e-02,\n",
       "               1.75422449e-02, -3.16296630e-02,  5.90677382e-06, -2.29953676e-02,\n",
       "               6.40219403e-03,  1.87074654e-02, -9.91857960e-04, -1.86910927e-02,\n",
       "              -2.17829552e-02, -9.49366670e-03,  2.86281612e-02,  3.71174840e-03,\n",
       "              -1.77340824e-02,  9.86514892e-03, -9.20616928e-03, -1.98866650e-02,\n",
       "              -1.91071425e-02, -2.04391424e-02, -3.09219416e-02, -1.72982889e-03,\n",
       "              -1.07584614e-02,  1.39104780e-02,  2.45051328e-02,  3.70833022e-03,\n",
       "               2.79449136e-03, -3.55861522e-02,  3.36412825e-02, -2.76993625e-02,\n",
       "               1.65360924e-02,  1.39565663e-02, -4.55296002e-02, -1.55951101e-02,\n",
       "               3.87999811e-03, -3.82097885e-02, -2.24316940e-02,  1.71218568e-03,\n",
       "               4.88877147e-02, -1.15567949e-02, -1.87324528e-02,  1.31809525e-03,\n",
       "              -3.80796418e-02, -3.36076878e-02,  2.78875028e-04,  1.28483062e-03,\n",
       "               7.60526350e-03, -2.05869917e-02,  1.58092240e-03,  7.51892757e-03,\n",
       "               7.68930838e-03,  1.25378063e-02,  1.36432834e-02,  1.14829717e-02,\n",
       "               1.41548784e-02, -4.13198257e-03, -1.49158137e-02,  2.08327454e-02,\n",
       "              -2.84223375e-03, -1.58541873e-02, -1.04070315e-02, -3.68304327e-02,\n",
       "              -4.91411285e-03,  1.87549163e-02, -3.40520777e-02, -1.62067097e-02,\n",
       "               5.68619184e-03, -8.47611111e-03, -1.11561473e-02,  3.54032358e-03,\n",
       "              -1.16867870e-02, -1.37257082e-02, -1.94537435e-02,  2.42985766e-02,\n",
       "              -1.35805095e-02,  1.61051843e-02, -2.10284349e-02,  1.16373412e-02,\n",
       "               1.96997579e-02,  9.77004319e-03, -1.66528262e-02, -7.03769503e-03,\n",
       "              -1.81460963e-03,  7.39465700e-03, -7.26237474e-03, -1.74880668e-03,\n",
       "               1.77141968e-02, -1.75314303e-02,  2.42351256e-02,  1.62910130e-02,\n",
       "               1.78544186e-02, -1.56693615e-03,  3.79178370e-03, -2.79820003e-02,\n",
       "              -2.02034432e-02,  8.82263109e-03,  3.21880840e-02, -9.67869069e-03,\n",
       "               4.31459816e-03, -1.42114758e-02,  2.08534133e-02, -4.28876933e-03,\n",
       "               2.28563286e-02, -1.60417296e-02, -5.78556443e-03, -2.37584747e-02,\n",
       "               8.75278004e-03,  1.60861202e-02, -8.45332761e-05,  2.10649539e-02,\n",
       "              -1.66019727e-05, -1.88836530e-02, -7.06376787e-03,  5.08249458e-03,\n",
       "               2.84847282e-02,  1.59216225e-02,  1.74269099e-02, -2.39274707e-02,\n",
       "              -5.86959031e-05, -5.77230332e-03, -2.36098450e-02, -2.45136973e-02,\n",
       "              -1.02915857e-02,  8.43222812e-03, -3.07602398e-02,  1.54398857e-02,\n",
       "               1.55886393e-02,  2.81415936e-02, -2.85637062e-02,  1.80450315e-03,\n",
       "              -3.09008081e-02, -1.18106315e-02,  3.28004290e-03,  4.91940342e-02,\n",
       "               3.65938395e-02, -6.09787356e-04,  2.48469375e-02, -1.50327878e-02,\n",
       "              -7.36492546e-03, -3.35881002e-02, -2.00746804e-02, -4.90521546e-03,\n",
       "               6.53967867e-03, -6.76556863e-03,  6.88001327e-03,  2.16812659e-02,\n",
       "              -7.28771463e-03, -1.14062512e-02, -4.03991155e-02,  1.94410849e-02,\n",
       "              -1.40634703e-03,  1.64838545e-02, -1.48565881e-02,  2.08342960e-03,\n",
       "              -3.16918269e-02,  5.97297307e-03, -3.67120816e-03, -3.15995738e-02,\n",
       "              -7.82863528e-04, -1.25296628e-02,  6.69139950e-03, -7.04595260e-03],\n",
       "             dtype=float32)                                                       ,\n",
       "       array([ 7.61839328e-03,  2.48901360e-03, -1.75990649e-02,  2.47240961e-02,\n",
       "              -2.41719354e-02, -1.11895250e-02,  1.31364698e-02, -1.97860003e-02,\n",
       "               3.31146531e-02,  2.78986362e-03, -1.67687330e-02, -2.31624320e-02,\n",
       "              -6.92144409e-03,  1.74218323e-02, -4.65728678e-02,  2.70272344e-02,\n",
       "               2.60086581e-02,  3.41436937e-02, -4.35897475e-03, -3.42064388e-02,\n",
       "              -1.01944339e-03,  3.56212035e-02,  2.29995959e-02, -1.13711110e-03,\n",
       "               5.53720258e-03, -2.41591968e-03, -1.80803798e-02,  4.61178087e-03,\n",
       "               7.85050821e-03, -2.73307879e-03, -8.38370621e-03,  1.65733155e-02,\n",
       "              -3.41971666e-02, -8.46128166e-03,  1.51049681e-02, -9.43373982e-03,\n",
       "               2.91350503e-02,  1.13155255e-02,  1.23835551e-02,  2.07179282e-02,\n",
       "               2.03372147e-02, -1.28414240e-02,  3.21734063e-02,  9.44645703e-03,\n",
       "              -2.84845568e-02, -1.42605202e-02, -1.27588259e-02, -5.38629433e-03,\n",
       "               3.49768292e-04,  3.31922434e-02, -6.77333865e-03,  2.29963865e-02,\n",
       "              -9.46350116e-03, -4.35577153e-04,  2.39531491e-02,  9.68174264e-03,\n",
       "              -1.65491328e-02, -2.45410148e-02, -5.44043025e-03, -4.56561670e-02,\n",
       "               1.36039341e-02,  1.41238077e-02, -3.47780585e-02, -1.52507974e-02,\n",
       "               1.87275244e-03, -1.29849464e-02, -2.87824105e-02,  2.79011931e-02,\n",
       "              -8.60539824e-03,  2.01764740e-02,  1.41488910e-02, -2.42584874e-03,\n",
       "               3.22721153e-02, -2.27102404e-03, -3.65049392e-02, -1.01456633e-02,\n",
       "               2.68128999e-02,  1.60697922e-02,  2.16152817e-02,  3.34012322e-02,\n",
       "              -9.00445506e-03, -1.84810385e-02,  1.28829265e-02, -1.88954792e-03,\n",
       "              -2.13786308e-03, -1.92300044e-02, -4.03218083e-02,  4.60176691e-02,\n",
       "               2.44368985e-03, -5.67324506e-03,  3.64971370e-03, -1.82167371e-03,\n",
       "              -3.13196592e-02, -3.08300517e-02, -4.12316993e-03, -2.67038438e-02,\n",
       "               2.38231458e-02,  2.81435754e-02,  8.47664010e-03, -2.02848352e-02,\n",
       "              -2.76100170e-02, -8.65201000e-03, -1.51599722e-03,  1.08909691e-02,\n",
       "              -2.87382770e-03, -1.04992148e-02,  9.98641457e-03, -3.13883424e-02,\n",
       "              -1.14303455e-03, -2.12973803e-02, -2.63449568e-02, -8.84092227e-03,\n",
       "               1.24737126e-04, -5.88685134e-03,  3.17105837e-02, -1.20779558e-03,\n",
       "               1.74003243e-02, -1.75342187e-02,  3.21287364e-02,  3.95246828e-03,\n",
       "              -1.49770537e-02, -2.32566404e-03, -2.39785090e-02,  2.34642122e-02,\n",
       "               4.26932471e-03, -1.68141350e-02, -2.60243788e-02, -1.53796263e-02,\n",
       "               5.49782114e-03, -3.99563694e-03, -8.93418957e-03, -4.90568206e-02,\n",
       "               4.12235595e-03,  1.61021948e-03, -6.87933387e-03, -1.69086233e-02,\n",
       "               6.38794911e-04,  1.96823031e-02,  2.52989819e-03,  1.70600191e-02,\n",
       "               2.85134520e-02, -2.08935644e-02, -4.63349745e-03, -5.34560950e-03,\n",
       "               7.34509481e-03,  1.16142714e-02,  4.63041198e-03, -2.49365922e-02,\n",
       "              -1.45528931e-02, -7.45379645e-03,  3.37615609e-02,  8.61671939e-03,\n",
       "               3.23594012e-03,  4.74232808e-03, -1.20612187e-02, -2.76914029e-03,\n",
       "              -1.25498101e-02, -1.32020917e-02, -2.25676745e-02, -1.69887729e-02,\n",
       "              -1.93500391e-03,  1.91561058e-02,  2.15707738e-02,  2.69462448e-02,\n",
       "               8.55851080e-03, -5.04989289e-02,  2.12491546e-02, -2.83882972e-02,\n",
       "               1.86042115e-02,  1.04778046e-02, -2.51076743e-02, -8.03315360e-03,\n",
       "               1.07341511e-02, -3.97358537e-02, -1.01266550e-02, -1.09029131e-03,\n",
       "               4.07587066e-02, -2.88273450e-02, -2.01926399e-02,  3.68208671e-03,\n",
       "              -3.20190266e-02, -1.62980258e-02,  1.38105303e-02,  6.92324014e-03,\n",
       "              -7.06163421e-03, -1.32437767e-02, -1.06240567e-02, -2.04231730e-03,\n",
       "               2.42656171e-02,  1.98493041e-02,  1.32926935e-02,  1.60794575e-02,\n",
       "               2.76196375e-02,  8.33252538e-03, -9.20007657e-03,  2.04604985e-05,\n",
       "               5.31374011e-03, -2.51546735e-03, -1.00021437e-02, -2.39096303e-02,\n",
       "               1.34380460e-02,  1.09240226e-02, -1.57587677e-02, -5.89396339e-03,\n",
       "               1.52660841e-02, -9.39623918e-03, -2.77841091e-03,  1.44762993e-02,\n",
       "              -3.77341988e-03,  4.03093128e-03, -4.37797885e-03,  2.57939100e-02,\n",
       "              -1.85448327e-03,  9.47148167e-03, -2.45696083e-02,  1.59193436e-03,\n",
       "               1.76750664e-02,  1.61942746e-03, -2.42997389e-02, -2.31370237e-02,\n",
       "              -1.79241505e-02,  9.53366514e-03, -5.86229889e-03, -2.00316729e-03,\n",
       "               2.80104969e-02,  1.02044083e-03,  1.78160369e-02,  1.12123517e-02,\n",
       "               9.40180942e-03,  2.19245767e-03, -6.96356059e-04, -8.70561413e-03,\n",
       "              -1.97520629e-02,  2.97583081e-03,  4.07212116e-02, -1.49234349e-03,\n",
       "               1.35377198e-02, -3.22625339e-02,  3.32045071e-02,  6.73261192e-03,\n",
       "               6.78172475e-03, -1.64962467e-02,  1.21568458e-03, -3.58572751e-02,\n",
       "               6.08490664e-04,  1.56283695e-02,  2.92140944e-03,  4.50175405e-02,\n",
       "               1.16154607e-02, -1.95105039e-02,  5.86558785e-03,  2.57815290e-02,\n",
       "               1.39427967e-02,  2.11952962e-02,  2.15386115e-02, -8.69167596e-03,\n",
       "               1.58564150e-02,  1.30048348e-02, -1.29147787e-02, -3.06457188e-02,\n",
       "              -5.97112579e-03,  5.48157375e-03, -8.04628339e-03,  7.44501548e-03,\n",
       "               8.63005407e-03,  4.03764136e-02, -1.93056595e-02,  7.44999386e-04,\n",
       "              -2.02009361e-02, -8.74405634e-03,  9.62434337e-03,  2.80249547e-02,\n",
       "               4.36448194e-02,  1.67162102e-02,  2.40177084e-02, -1.14410110e-02,\n",
       "              -1.55535368e-02, -3.61048467e-02, -1.94389913e-02, -6.92108693e-03,\n",
       "              -1.87933410e-03,  5.07606892e-03,  1.36998678e-02,  2.12604720e-02,\n",
       "              -5.47241047e-03, -4.19171248e-03, -1.87924989e-02,  1.90158060e-03,\n",
       "               2.01105159e-02,  1.59618165e-02, -5.76482154e-03,  1.30583234e-02,\n",
       "              -3.04674953e-02, -1.14500914e-02, -1.27121946e-03, -1.80392712e-02,\n",
       "               1.41185289e-02, -3.34623046e-02,  1.28318779e-02,  1.60798361e-03],\n",
       "             dtype=float32)                                                       ],\n",
       "      dtype=object)"
      ]
     },
     "execution_count": 58,
     "metadata": {},
     "output_type": "execute_result"
    }
   ],
   "source": [
    "X_train[:2]"
   ]
  },
  {
   "cell_type": "code",
   "execution_count": 59,
   "id": "a6341da6",
   "metadata": {},
   "outputs": [],
   "source": [
    "X_train_2d = np.stack(X_train)\n",
    "X_test_2d = np.stack(X_test)"
   ]
  },
  {
   "cell_type": "code",
   "execution_count": 61,
   "id": "f5356e33",
   "metadata": {},
   "outputs": [],
   "source": [
    "from sklearn.ensemble import GradientBoostingClassifier\n",
    "from sklearn.metrics import classification_report"
   ]
  },
  {
   "cell_type": "code",
   "execution_count": 62,
   "id": "c986ad9d",
   "metadata": {},
   "outputs": [
    {
     "name": "stdout",
     "output_type": "stream",
     "text": [
      "              precision    recall  f1-score   support\n",
      "\n",
      "           0       0.99      0.97      0.98      1000\n",
      "           1       0.97      0.99      0.98       980\n",
      "\n",
      "    accuracy                           0.98      1980\n",
      "   macro avg       0.98      0.98      0.98      1980\n",
      "weighted avg       0.98      0.98      0.98      1980\n",
      "\n"
     ]
    }
   ],
   "source": [
    "clf = GradientBoostingClassifier()\n",
    "clf.fit(X_train_2d,y_train)\n",
    "\n",
    "y_pred = clf.predict(X_test_2d)\n",
    "\n",
    "print(classification_report(y_test,y_pred))"
   ]
  },
  {
   "cell_type": "code",
   "execution_count": null,
   "id": "f68938f7",
   "metadata": {},
   "outputs": [],
   "source": []
  }
 ],
 "metadata": {
  "kernelspec": {
   "display_name": "Python 3 (ipykernel)",
   "language": "python",
   "name": "python3"
  },
  "language_info": {
   "codemirror_mode": {
    "name": "ipython",
    "version": 3
   },
   "file_extension": ".py",
   "mimetype": "text/x-python",
   "name": "python",
   "nbconvert_exporter": "python",
   "pygments_lexer": "ipython3",
   "version": "3.9.7"
  }
 },
 "nbformat": 4,
 "nbformat_minor": 5
}
